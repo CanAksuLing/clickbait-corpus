{
 "cells": [
  {
   "cell_type": "code",
   "execution_count": 3,
   "id": "401f165c-5fc1-431c-8be5-11344b4a98ab",
   "metadata": {},
   "outputs": [],
   "source": [
    "import pandas as pd"
   ]
  },
  {
   "cell_type": "code",
   "execution_count": 4,
   "id": "ad8e4b31-06da-4651-b7d2-614157d4d236",
   "metadata": {},
   "outputs": [],
   "source": [
    "cumhuriyet = pd.read_csv('data/cumhuriyet-data.csv', parse_dates=['publishing_date'])\n",
    "ensonhaber = pd.read_csv('data/ensonhaber-data.csv', parse_dates=['publishing_date'])\n",
    "haber7 = pd.read_csv('data/haber7-data.csv', parse_dates=['publishing_date'])\n",
    "haberler_com = pd.read_csv('data/haberler_com-data.csv', parse_dates=['publishing_date'])\n",
    "haberturk = pd.read_csv('data/haberturk-data.csv', parse_dates=['publishing_date'])\n",
    "hurriyet = pd.read_csv('data/hurriyet-data.csv', parse_dates=['publishing_date'])\n",
    "milliyet = pd.read_csv('data/milliyet-data.csv', parse_dates=['publishing_date'])\n",
    "ntv = pd.read_csv('data/ntv-data.csv', parse_dates=['publishing_date'])\n",
    "sozcu = pd.read_csv('data/sozcu-data.csv', parse_dates=['publishing_date'])\n",
    "yenicag = pd.read_csv('data/yenicag-data.csv', parse_dates=['publishing_date'])"
   ]
  },
  {
   "cell_type": "code",
   "execution_count": 5,
   "id": "eeea35c1-9013-412a-8594-a8ab933c4a79",
   "metadata": {},
   "outputs": [],
   "source": [
    "survey = pd.concat([cumhuriyet.head(50),\n",
    "                    ensonhaber.head(50),\n",
    "                    haber7.head(50),\n",
    "                    haberler_com.head(50),\n",
    "                    haberturk.head(50),\n",
    "                    hurriyet.head(50),\n",
    "                    milliyet.head(50),\n",
    "                    ntv.head(50),\n",
    "                    sozcu.head(50),\n",
    "                    yenicag.head(50)],\n",
    "                   # keys=[\"cumhuriyet\", \"ensonhaber\", \"haber7\", \"haberler_com\", \"haberturk\",\n",
    "                   #       \"hurriyet\", \"milliyet\", \"ntv\", \"sozcu\", \"yenicag\"],\n",
    "                   axis=0,\n",
    "                   ignore_index=False)"
   ]
  },
  {
   "cell_type": "code",
   "execution_count": 6,
   "id": "8fb97170-9ba3-4db2-a0f3-8b60a245c86e",
   "metadata": {},
   "outputs": [],
   "source": [
    "survey.to_csv('survey.csv', index_label='id')"
   ]
  },
  {
   "cell_type": "code",
   "execution_count": null,
   "id": "93078acb-e7dd-48f7-9ded-dcc55bbead52",
   "metadata": {},
   "outputs": [],
   "source": []
  }
 ],
 "metadata": {
  "kernelspec": {
   "display_name": "Python 3 (ipykernel)",
   "language": "python",
   "name": "python3"
  },
  "language_info": {
   "codemirror_mode": {
    "name": "ipython",
    "version": 3
   },
   "file_extension": ".py",
   "mimetype": "text/x-python",
   "name": "python",
   "nbconvert_exporter": "python",
   "pygments_lexer": "ipython3",
   "version": "3.12.2"
  }
 },
 "nbformat": 4,
 "nbformat_minor": 5
}
