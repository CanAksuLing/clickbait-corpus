{
 "cells": [
  {
   "cell_type": "code",
   "execution_count": 20,
   "id": "401f165c-5fc1-431c-8be5-11344b4a98ab",
   "metadata": {},
   "outputs": [],
   "source": [
    "import pandas as pd"
   ]
  },
  {
   "cell_type": "code",
   "execution_count": 21,
   "id": "ad8e4b31-06da-4651-b7d2-614157d4d236",
   "metadata": {},
   "outputs": [],
   "source": [
    "cumhuriyet = pd.read_csv('data/cumhuriyet-data.csv')\n",
    "ensonhaber = pd.read_csv('data/ensonhaber-data.csv')\n",
    "haber7 = pd.read_csv('data/haber7-data.csv')\n",
    "haberler_com = pd.read_csv('data/haberler_com-data.csv')\n",
    "haberturk = pd.read_csv('data/haberturk-data.csv')\n",
    "hurriyet = pd.read_csv('data/hurriyet-data.csv')\n",
    "milliyet = pd.read_csv('data/milliyet-data.csv')\n",
    "ntv = pd.read_csv('data/ntv-data.csv')\n",
    "sozcu = pd.read_csv('data/sozcu-data.csv')\n",
    "yenicag = pd.read_csv('data/yenicag-data.csv')"
   ]
  },
  {
   "cell_type": "code",
   "execution_count": 22,
   "id": "eeea35c1-9013-412a-8594-a8ab933c4a79",
   "metadata": {},
   "outputs": [],
   "source": [
    "survey = pd.concat([cumhuriyet.sample(50, ignore_index=True),\n",
    "                    ensonhaber.sample(50, ignore_index=True),\n",
    "                    haber7.sample(50, ignore_index=True),\n",
    "                    haberler_com.sample(50, ignore_index=True),\n",
    "                    haberturk.sample(50, ignore_index=True),\n",
    "                    hurriyet.sample(50, ignore_index=True),\n",
    "                    milliyet.sample(50, ignore_index=True),\n",
    "                    ntv.sample(50, ignore_index=True),\n",
    "                    sozcu.sample(50, ignore_index=True),\n",
    "                    yenicag.sample(50, ignore_index=True)],\n",
    "                   keys=[\"cumhuriyet\", \"ensonhaber\", \"haber7\", \"haberler_com\", \"haberturk\",\n",
    "                         \"hurriyet\", \"milliyet\", \"ntv\", \"sozcu\", \"yenicag\"],\n",
    "                   axis=1,\n",
    "                   ignore_index=False)"
   ]
  },
  {
   "cell_type": "code",
   "execution_count": 23,
   "id": "8fb97170-9ba3-4db2-a0f3-8b60a245c86e",
   "metadata": {},
   "outputs": [],
   "source": [
    "survey.to_csv('survey.csv', index=False)"
   ]
  },
  {
   "cell_type": "code",
   "execution_count": null,
   "id": "4a4c8f4a-bb93-42ce-9d5d-d2c4c24ce6aa",
   "metadata": {},
   "outputs": [],
   "source": []
  }
 ],
 "metadata": {
  "kernelspec": {
   "display_name": "Python 3 (ipykernel)",
   "language": "python",
   "name": "python3"
  },
  "language_info": {
   "codemirror_mode": {
    "name": "ipython",
    "version": 3
   },
   "file_extension": ".py",
   "mimetype": "text/x-python",
   "name": "python",
   "nbconvert_exporter": "python",
   "pygments_lexer": "ipython3",
   "version": "3.12.2"
  }
 },
 "nbformat": 4,
 "nbformat_minor": 5
}
