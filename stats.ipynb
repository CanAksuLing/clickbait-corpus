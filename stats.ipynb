{
 "cells": [
  {
   "cell_type": "code",
   "execution_count": 1,
   "id": "707fa862-2128-454b-9207-d6767d54ee26",
   "metadata": {},
   "outputs": [],
   "source": [
    "import pandas as pd\n",
    "import numpy as np\n",
    "import scipy as sp\n",
    "import statsmodels.api as sm\n",
    "import statsmodels"
   ]
  },
  {
   "cell_type": "code",
   "execution_count": 2,
   "id": "6bcf5e0b-bee7-416e-a19c-3b240a8d2c65",
   "metadata": {},
   "outputs": [],
   "source": [
    "# Load responses\n",
    "responses = pd.read_csv('./responses.csv', index_col='title')"
   ]
  },
  {
   "cell_type": "code",
   "execution_count": 3,
   "id": "69130f8b-3522-48cf-8b39-58f97203951f",
   "metadata": {},
   "outputs": [
    {
     "name": "stdout",
     "output_type": "stream",
     "text": [
      "0.2129125817634864\n"
     ]
    }
   ],
   "source": [
    "# Fleiss' kappa\n",
    "responses_np = responses.to_numpy()\n",
    "array, categories = statsmodels.stats.inter_rater.aggregate_raters(responses_np)\n",
    "kappa = sm.stats.fleiss_kappa(array)\n",
    "print(kappa)"
   ]
  },
  {
   "cell_type": "code",
   "execution_count": 4,
   "id": "835b9709-2d11-42bc-ae4b-314381f306e5",
   "metadata": {},
   "outputs": [],
   "source": [
    "publishers_df = pd.read_csv('./publishers_clickbait.csv', index_col='publisher')"
   ]
  },
  {
   "cell_type": "code",
   "execution_count": 9,
   "id": "fb1a5d5b-a095-46cc-b55d-e817c9849f02",
   "metadata": {},
   "outputs": [
    {
     "data": {
      "text/plain": [
       "0.05280751141611358"
      ]
     },
     "execution_count": 9,
     "metadata": {},
     "output_type": "execute_result"
    }
   ],
   "source": [
    "kendall_tau, kendall_p = sp.stats.kendalltau(publishers_df.clickbait_score, publishers_df.popularity)\n",
    "spearman_rho, spearman_p = sp.stats.pearsonr(publishers_df.clickbait_score, publishers_df.popularity)\n",
    "kendall_p"
   ]
  },
  {
   "cell_type": "code",
   "execution_count": null,
   "id": "1c7e4b30-ea0f-43e6-8541-6fa8f421bd4e",
   "metadata": {},
   "outputs": [],
   "source": []
  }
 ],
 "metadata": {
  "kernelspec": {
   "display_name": "Python 3 (ipykernel)",
   "language": "python",
   "name": "python3"
  },
  "language_info": {
   "codemirror_mode": {
    "name": "ipython",
    "version": 3
   },
   "file_extension": ".py",
   "mimetype": "text/x-python",
   "name": "python",
   "nbconvert_exporter": "python",
   "pygments_lexer": "ipython3",
   "version": "3.12.3"
  }
 },
 "nbformat": 4,
 "nbformat_minor": 5
}
